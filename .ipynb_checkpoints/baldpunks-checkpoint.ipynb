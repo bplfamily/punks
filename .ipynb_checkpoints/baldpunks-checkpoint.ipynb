{
 "cells": [
  {
   "cell_type": "markdown",
   "id": "jRjLRrVMK7pi",
   "metadata": {
    "id": "jRjLRrVMK7pi"
   },
   "source": [
    "# Baldpunks\n",
    "\n",
    "## Bald heads matter\n",
    "\n",
    "\n",
    "We now demonstrate how to systematically make a punk bald\n",
    "alskdf"
   ]
  },
  {
   "cell_type": "code",
   "execution_count": 50,
   "id": "ckgEiwgxJ-br",
   "metadata": {
    "colab": {
     "base_uri": "https://localhost:8080/",
     "height": 248
    },
    "id": "ckgEiwgxJ-br",
    "outputId": "3cbf6a9e-c8a9-43ca-dff5-cad0a7e6d245"
   },
   "outputs": [
    {
     "name": "stdout",
     "output_type": "stream",
     "text": [
      "1\n"
     ]
    },
    {
     "data": {
      "image/png": "[encoded data removed]",
      "text/plain": [
       "<Figure size 432x288 with 1 Axes>"
      ]
     },
     "metadata": {
      "needs_background": "light"
     },
     "output_type": "display_data"
    }
   ],
   "source": [
    "import matplotlib.pyplot as plt\n",
    "import matplotlib.image as mpimg\n",
    "import numpy as np\n",
    "\n",
    "img = mpimg.imread('punks.png')\n",
    "# img = img[0:24, 0:24, :]\n",
    "plt.set_cmap('hot')\n",
    "plt.axis('off')\n",
    "# imgplot = plt.imshow(img)\n",
    "print(1)\n",
    "i=2\n",
    "j=12\n",
    "img1 = img[i*24:i*24+23, j*24:j*24+23, :]\n",
    "imgplot = plt.imshow(img1)\n",
    "plt.savefig('punks/p0.png',bbox_inches='tight',pad_inches = 0,transparent=True,dpi=8)\n"
   ]
  },
  {
   "cell_type": "code",
   "execution_count": 52,
   "id": "decent-direction",
   "metadata": {},
   "outputs": [
    {
     "data": {
      "image/png": "[encoded data removed]",
      "text/plain": [
       "<Figure size 432x288 with 1 Axes>"
      ]
     },
     "metadata": {
      "needs_background": "light"
     },
     "output_type": "display_data"
    }
   ],
   "source": [
    "for i in range(100):\n",
    "    for j in range(100):\n",
    "        img1 = img[i*24:i*24+23, j*24:j*24+23, :]\n",
    "        imgplot = plt.imshow(img1)\n",
    "        number=10*i+j\n",
    "        name=\"p\"+str(number)\n",
    "        plt.savefig('/home/charles/punks/punks/'+name+'.png',bbox_inches='tight',pad_inches = 0,transparent=True,dpi=8)\n",
    "        plt.clf()\n",
    "        plt.set_cmap('hot')\n",
    "        plt.axis('off')"
   ]
  },
  {
   "cell_type": "code",
   "execution_count": 124,
   "id": "ruled-wages",
   "metadata": {},
   "outputs": [],
   "source": [
    "\n"
   ]
  },
  {
   "cell_type": "code",
   "execution_count": null,
   "id": "velvet-campaign",
   "metadata": {},
   "outputs": [],
   "source": []
  }
 ],
 "metadata": {
  "colab": {
   "name": "baldpunks.ipynb",
   "provenance": []
  },
  "kernelspec": {
   "display_name": "Python 3",
   "language": "python",
   "name": "python3"
  },
  "language_info": {
   "codemirror_mode": {
    "name": "ipython",
    "version": 3
   },
   "file_extension": ".py",
   "mimetype": "text/x-python",
   "name": "python",
   "nbconvert_exporter": "python",
   "pygments_lexer": "ipython3",
   "version": "3.8.8"
  }
 },
 "nbformat": 4,
 "nbformat_minor": 5
}
