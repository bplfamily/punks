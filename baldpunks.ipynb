{
  "nbformat": 4,
  "nbformat_minor": 5,
  "metadata": {
    "kernelspec": {
      "display_name": "Python 3",
      "language": "python",
      "name": "python3"
    },
    "language_info": {
      "codemirror_mode": {
        "name": "ipython",
        "version": 3
      },
      "file_extension": ".py",
      "mimetype": "text/x-python",
      "name": "python",
      "nbconvert_exporter": "python",
      "pygments_lexer": "ipython3",
      "version": "3.8.8"
    },
    "colab": {
      "name": "baldpunks.ipynb",
      "provenance": []
    }
  },
  "cells": [
    {
      "cell_type": "markdown",
      "metadata": {
        "id": "jRjLRrVMK7pi"
      },
      "source": [
        "# Baldpunks\n",
        "\n",
        "## Bald heads matter\n",
        "\n",
        "\n",
        "We now demonstrate how to systematically make a punk bald\n",
        "alskdf"
      ],
      "id": "jRjLRrVMK7pi"
    },
    {
      "cell_type": "code",
      "metadata": {
        "id": "ckgEiwgxJ-br",
        "outputId": "1c23cc0d-1c99-4104-b9f3-b3e1911c9fca",
        "colab": {
          "base_uri": "https://localhost:8080/",
          "height": 248
        }
      },
      "source": [
        "import matplotlib.pyplot as plt\n",
        "import matplotlib.image as mpimg\n",
        "import numpy as np\n",
        "\n",
        "img = mpimg.imread('punks.png')\n",
        "\n",
        "img = img[0:24, 0:24, :]\n",
        "plt.set_cmap('hot')\n",
        "plt.axis('off')\n",
        "imgplot = plt.imshow(img)\n",
        "plt.savefig('img.png',bbox_inches='tight',pad_inches = 0)"
      ],
      "id": "ckgEiwgxJ-br",
      "execution_count": 27,
      "outputs": [
        {
          "output_type": "display_data",
          "data": {
            "image/png": "[encoded data removed]",
            "text/plain": [
              "<Figure size 432x288 with 1 Axes>"
            ]
          },
          "metadata": {
            "tags": [],
            "needs_background": "light"
          }
        }
      ]
    }
  ]
}