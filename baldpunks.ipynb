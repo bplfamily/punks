{
  "nbformat": 4,
  "nbformat_minor": 5,
  "metadata": {
    "kernelspec": {
      "display_name": "Python 3",
      "language": "python",
      "name": "python3"
    },
    "language_info": {
      "codemirror_mode": {
        "name": "ipython",
        "version": 3
      },
      "file_extension": ".py",
      "mimetype": "text/x-python",
      "name": "python",
      "nbconvert_exporter": "python",
      "pygments_lexer": "ipython3",
      "version": "3.8.8"
    },
    "colab": {
      "name": "baldpunks.ipynb",
      "provenance": []
    }
  },
  "cells": [
    {
      "cell_type": "markdown",
      "metadata": {
        "id": "jRjLRrVMK7pi"
      },
      "source": [
        "# Baldpunks\n",
        "\n",
        "## Bald heads matter\n",
        "\n",
        "\n",
        "We now demonstrate how to systematically make a punk bald\n",
        "alskdf"
      ],
      "id": "jRjLRrVMK7pi"
    }
  ]
}